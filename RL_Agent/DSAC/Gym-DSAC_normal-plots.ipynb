{
 "cells": [
  {
   "cell_type": "code",
   "execution_count": 1,
   "metadata": {
    "ExecuteTime": {
     "end_time": "2023-06-19T21:24:03.206035Z",
     "start_time": "2023-06-19T21:24:02.792104Z"
    },
    "notebookRunGroups": {
     "groupValue": "1"
    }
   },
   "outputs": [
    {
     "name": "stdout",
     "output_type": "stream",
     "text": [
      "Using device: cpu\n"
     ]
    }
   ],
   "source": [
    "import gymnasium as gym\n",
    "from gymnasium import spaces\n",
    "import numpy as np\n",
    "import pickle\n",
    "from mpl_toolkits.mplot3d import Axes3D\n",
    "from matplotlib import cm\n",
    "from dsac import DSAC_Agent\n",
    "import pylab as plt\n",
    "from importlib import reload\n",
    "import torch \n",
    "import time"
   ]
  },
  {
   "cell_type": "code",
   "execution_count": null,
   "metadata": {
    "notebookRunGroups": {
     "groupValue": "1"
    }
   },
   "outputs": [],
   "source": [
    "#env_name = \"Pendulum-v1\"\n",
    "env_name = \"LunarLander-v2\"\n",
    "log_interval = 20         # print avg reward in the interval\n",
    "max_episodes = 1000 # max training episodes\n",
    "max_timesteps = 2000         # max timesteps in one episode\n",
    "save_interval = 1000\n",
    "train_iter = 32      # update networks for given batched after every episode\n",
    "random_seed = 42"
   ]
  },
  {
   "cell_type": "code",
   "execution_count": null,
   "metadata": {
    "notebookRunGroups": {
     "groupValue": "1"
    }
   },
   "outputs": [],
   "source": [
    "def save_statistics(rewards,lengths,q_losses,pi_losses,temperature_loss,env_name,random_seed,episode):\n",
    "    with open(f\"./results/SAC_{env_name}-s{random_seed}-e{episode}-stat.pkl\", 'wb') as f:\n",
    "        pickle.dump({\"rewards\" : rewards, \"lengths\": lengths, \"train\": train_iter,\n",
    "                        \"pi_losses\": pi_losses, \"q_losses\": q_losses,\n",
    "                        \"temperature_loss\":temperature_loss}, f)"
   ]
  },
  {
   "cell_type": "code",
   "execution_count": null,
   "metadata": {},
   "outputs": [],
   "source": [
    "def running_mean(x, N):\n",
    "    cumsum = np.cumsum(np.insert(x, 0, 0)) \n",
    "    return (cumsum[N:] - cumsum[:-N]) / float(N)    "
   ]
  },
  {
   "cell_type": "code",
   "execution_count": 9,
   "metadata": {
    "notebookRunGroups": {
     "groupValue": "1"
    }
   },
   "outputs": [],
   "source": [
    "def run_agent_in_environment(env_name=env_name,log_interval=log_interval,save_interval=save_interval,max_episodes=max_episodes,max_timesteps=max_timesteps,train_iter=train_iter,random_seed=random_seed):\n",
    "    torch.manual_seed(random_seed)\n",
    "    np.random.seed(random_seed)\n",
    "\n",
    "    env = gym.make(env_name)\n",
    "\n",
    "    if env_name == \"LunarLander-v2\":\n",
    "        env = gym.make(env_name,continuous=True)\n",
    "    else:\n",
    "        env = gym.make(env_name)\n",
    "    agent = DSAC_Agent(env.observation_space, env.action_space)\n",
    "    rewards = []\n",
    "    lengths = []\n",
    "    q_losses = []\n",
    "    policy_losses = []\n",
    "    temperature_losses = []\n",
    "    timeseries = []\n",
    "    timestep = 0\n",
    "    training_steps = 0\n",
    "\n",
    "    for episode in range(1,max_episodes+1):\n",
    "        ob, _info = env.reset()\n",
    "        total_reward=0\n",
    "        for t in range(max_timesteps):\n",
    "            timestep +=1\n",
    "            done = False\n",
    "            a = agent.act(ob)\n",
    "            (ob_new,reward,done,trunc,_info) = env.step(a)\n",
    "            total_reward += reward\n",
    "            agent.store_transition((ob,a,reward,ob_new,done))\n",
    "            ob=ob_new\n",
    "            if done or trunc: break\n",
    "\n",
    "        start_time = time.time()\n",
    "        q_loss,pi_loss,temperature_loss = agent.train(train_iter)\n",
    "        training_steps +=1\n",
    "        timeseries.append(time.time() - start_time)\n",
    "        \n",
    "            \n",
    "        q_losses.extend(q_loss)\n",
    "        policy_losses.extend(pi_loss)\n",
    "        temperature_losses.extend(temperature_loss)\n",
    "        rewards.append(total_reward)\n",
    "        lengths.append(t)\n",
    "\n",
    "        if episode % save_interval == 0:\n",
    "            print(\"########### Save checkpoint ################\")\n",
    "            torch.save(agent.get_networks_states(),f'./results/DSAC_normal_{env_name}-e{episode}-t{train_iter}-s{random_seed}.pth')\n",
    "            save_statistics(rewards,lengths,q_losses,policy_losses,temperature_losses,env_name,random_seed,episode)\n",
    "\n",
    "        if episode % log_interval == 0:\n",
    "            avg_reward = np.mean(rewards[-log_interval:])\n",
    "            avg_length = int(np.mean(lengths[-log_interval:]))\n",
    "            print('Episode {} \\t avg length: {} \\t reward: {}'.format(episode, avg_length, avg_reward))\n",
    "    save_statistics(rewards,lengths,q_losses,policy_losses,temperature_losses,env_name,random_seed,episode)\n",
    "    \n",
    "    print(training_steps)"
   ]
  },
  {
   "cell_type": "code",
   "execution_count": null,
   "metadata": {},
   "outputs": [],
   "source": [
    "#Critic 3 implementation\n",
    "run_agent_in_environment(env_name=env_name,log_interval=log_interval,save_interval=save_interval,max_episodes=max_episodes,max_timesteps=max_timesteps,train_iter=train_iter,random_seed=random_seed)"
   ]
  },
  {
   "attachments": {},
   "cell_type": "markdown",
   "metadata": {},
   "source": [
    "## Helper Functions"
   ]
  },
  {
   "cell_type": "code",
   "execution_count": null,
   "metadata": {
    "notebookRunGroups": {
     "groupValue": "1"
    }
   },
   "outputs": [],
   "source": [
    "def run(env, agent, n_episodes=100):\n",
    "    rewards = []\n",
    "    observations = []\n",
    "    actions = []\n",
    "    agent.eval\n",
    "    for ep in range(1, n_episodes+1):\n",
    "        ep_reward = 0\n",
    "        state, _info = env.reset()\n",
    "        for t in range(2000):\n",
    "            action = agent.act(state)\n",
    "            state, reward, done, _trunc, _info = env.step(action)\n",
    "            observations.append(state)\n",
    "            actions.append(action)\n",
    "            ep_reward += reward\n",
    "            if done or _trunc:\n",
    "                break\n",
    "        rewards.append(ep_reward)\n",
    "        ep_reward = 0\n",
    "    print(f'Mean reward: {np.mean(rewards)}')\n",
    "    observations = np.asarray(observations)\n",
    "    actions = np.asarray(actions)\n",
    "    return observations, actions, rewards"
   ]
  },
  {
   "attachments": {},
   "cell_type": "markdown",
   "metadata": {},
   "source": [
    "# SAC"
   ]
  },
  {
   "cell_type": "code",
   "execution_count": null,
   "metadata": {
    "ExecuteTime": {
     "end_time": "2023-06-20T05:28:44.820757Z",
     "start_time": "2023-06-20T05:28:44.737773Z"
    }
   },
   "outputs": [],
   "source": [
    "with open(f\"./results/DSAC_normal_{env_name}-s{random_seed}-e{max_episodes}-stat.pkl\", 'rb') as f:\n",
    "    data = pickle.load(f)\n",
    "    rewards = np.asarray(data[\"rewards\"])\n",
    "    q_losses =  np.asarray(data[\"q_losses\"])\n",
    "    pi_losses  = np.asarray(data[\"pi_losses\"])\n",
    "    temperature_losses = np.asarray(data[\"temperature_loss\"])"
   ]
  },
  {
   "cell_type": "code",
   "execution_count": null,
   "metadata": {
    "ExecuteTime": {
     "end_time": "2023-06-20T05:28:46.754291Z",
     "start_time": "2023-06-20T05:28:46.477579Z"
    }
   },
   "outputs": [
    {
     "data": {
      "text/plain": [
       "<matplotlib.legend.Legend at 0x2bffc7de710>"
      ]
     },
     "execution_count": 10,
     "metadata": {},
     "output_type": "execute_result"
    },
    {
     "data": {
      "image/png": "[encoded data removed]",
      "text/plain": [
       "<Figure size 600x380 with 1 Axes>"
      ]
     },
     "metadata": {},
     "output_type": "display_data"
    }
   ],
   "source": [
    "fig=plt.figure(figsize=(6,3.8))\n",
    "plt.plot(running_mean(q_losses,10),label=f\"Q loss\")\n",
    "plt.plot(running_mean(pi_losses,10),label=f\"Pi loss\")\n",
    "#plt.plot(running_mean(temperature_losses,10),label=f\"Temp loss\")\n",
    "plt.legend()"
   ]
  },
  {
   "cell_type": "code",
   "execution_count": null,
   "metadata": {
    "ExecuteTime": {
     "end_time": "2023-06-20T05:28:55.264673Z",
     "start_time": "2023-06-20T05:28:55.060716Z"
    }
   },
   "outputs": [
    {
     "data": {
      "text/plain": [
       "<matplotlib.legend.Legend at 0x2bfb468b880>"
      ]
     },
     "execution_count": 11,
     "metadata": {},
     "output_type": "execute_result"
    },
    {
     "data": {
      "image/png": "[encoded data removed]",
      "text/plain": [
       "<Figure size 600x380 with 1 Axes>"
      ]
     },
     "metadata": {},
     "output_type": "display_data"
    }
   ],
   "source": [
    "fig=plt.figure(figsize=(6,3.8))\n",
    "plt.plot(running_mean(rewards,10),label=f\"rewards\")\n",
    "plt.legend()"
   ]
  },
  {
   "attachments": {},
   "cell_type": "markdown",
   "metadata": {
    "ExecuteTime": {
     "end_time": "2023-06-17T20:37:14.693823Z",
     "start_time": "2023-06-17T20:37:14.688866Z"
    }
   },
   "source": [
    "## value function"
   ]
  },
  {
   "cell_type": "code",
   "execution_count": null,
   "metadata": {
    "ExecuteTime": {
     "end_time": "2023-06-20T05:29:17.636280Z",
     "start_time": "2023-06-20T05:29:17.627434Z"
    },
    "notebookRunGroups": {
     "groupValue": "1"
    }
   },
   "outputs": [],
   "source": [
    "def plot_Q_function(q_function, observations, actions, plot_dim1=0, plot_dim2=2,\n",
    "                    label_dim1=\"cos(angle)\", label_dim2=\"angular velocity\"):\n",
    "    plt.rcParams.update({'font.size': 12})\n",
    "    observations_tensor = torch.from_numpy(observations)\n",
    "    actions_tensor = torch.from_numpy(actions)\n",
    "    values =q_function.get_min_Q_value(observations_tensor,actions_tensor).detach().numpy()\n",
    "    \n",
    "    fig = plt.figure(figsize=[10,8])\n",
    "    ax = fig.add_subplot()\n",
    "    surf = ax.scatter (observations[:,plot_dim1], observations[:,plot_dim2],  c = values, cmap=cm.coolwarm)\n",
    "    ax.set_xlabel(label_dim1)\n",
    "    ax.set_ylabel(label_dim2)\n",
    "\n",
    "    return fig"
   ]
  },
  {
   "cell_type": "code",
   "execution_count": null,
   "metadata": {
    "ExecuteTime": {
     "end_time": "2023-06-20T05:29:18.142221Z",
     "start_time": "2023-06-20T05:29:18.127914Z"
    }
   },
   "outputs": [],
   "source": [
    "env = gym.make(env_name)"
   ]
  },
  {
   "cell_type": "code",
   "execution_count": null,
   "metadata": {
    "ExecuteTime": {
     "end_time": "2023-06-20T05:29:44.407216Z",
     "start_time": "2023-06-20T05:29:44.402306Z"
    }
   },
   "outputs": [
    {
     "name": "stdout",
     "output_type": "stream",
     "text": [
      "./results/SAC_Pendulum-v1-e500-t32-s42.pth\n"
     ]
    }
   ],
   "source": [
    "checkpoint = f\"./results/DSAC_normal_{env_name}-e{int(max_episodes/save_interval)*save_interval}-t{train_iter}-s{random_seed}.pth\"\n",
    "print(checkpoint)"
   ]
  },
  {
   "cell_type": "code",
   "execution_count": null,
   "metadata": {
    "ExecuteTime": {
     "end_time": "2023-06-20T05:29:44.720912Z",
     "start_time": "2023-06-20T05:29:44.703887Z"
    }
   },
   "outputs": [
    {
     "name": "stdout",
     "output_type": "stream",
     "text": [
      "Agent now in evaluation Mode\n"
     ]
    }
   ],
   "source": [
    "agent  = DSAC_Agent(env.observation_space, env.action_space)\n",
    "#print(torch.load(checkpoint)[1])\n",
    "agent.load_network_states(torch.load(checkpoint))\n",
    "agent.eval()"
   ]
  },
  {
   "cell_type": "code",
   "execution_count": null,
   "metadata": {},
   "outputs": [
    {
     "name": "stdout",
     "output_type": "stream",
     "text": [
      "Agent now in evaluation Mode\n"
     ]
    }
   ],
   "source": [
    "env = gym.make(env_name, render_mode=\"human\")\n",
    "agent = DSAC_Agent(env.observation_space, env.action_space)\n",
    "agent.load_network_states(torch.load(checkpoint))\n",
    "agent.eval()\n",
    "#TODO implement agent working in environment\n",
    "observation, info = env.reset(seed=42)\n",
    "for _ in range(500):\n",
    "   action = agent.act(observation)\n",
    "   observation, reward, terminated, truncated, info = env.step(action)\n",
    "\n",
    "   if terminated or truncated:\n",
    "      observation, info = env.reset()"
   ]
  },
  {
   "cell_type": "code",
   "execution_count": null,
   "metadata": {},
   "outputs": [],
   "source": [
    "env.close()"
   ]
  },
  {
   "attachments": {},
   "cell_type": "markdown",
   "metadata": {},
   "source": [
    "## HalfCheetah"
   ]
  },
  {
   "cell_type": "code",
   "execution_count": null,
   "metadata": {
    "ExecuteTime": {
     "end_time": "2023-06-19T21:24:22.515714Z",
     "start_time": "2023-06-19T21:24:22.359514Z"
    },
    "notebookRunGroups": {
     "groupValue": ""
    }
   },
   "outputs": [
    {
     "name": "stdout",
     "output_type": "stream",
     "text": [
      "Using device: cpu\n"
     ]
    },
    {
     "data": {
      "text/plain": [
       "<module 'sac' from 'c:\\\\Users\\\\Moritz Christ\\\\Documents\\\\Uni\\\\23Wintersemester\\\\RL\\\\Project\\\\RL\\\\RL_Agent\\\\SAC\\\\sac.py'>"
      ]
     },
     "execution_count": 20,
     "metadata": {},
     "output_type": "execute_result"
    }
   ],
   "source": [
    "env_name = \"HalfCheetah-v4\"\n",
    "log_interval = 20         # print avg reward in the interval\n",
    "max_episodes = 3000 # max training episodes\n",
    "max_timesteps = 2000         # max timesteps in one episode\n",
    "save_interval = 500\n",
    "train_iter = 32      # update networks for given batched after every episode\n",
    "random_seed = 42\n",
    "reload(sac)"
   ]
  },
  {
   "cell_type": "code",
   "execution_count": null,
   "metadata": {},
   "outputs": [
    {
     "name": "stdout",
     "output_type": "stream",
     "text": [
      "Episode 20 \t avg length: 999 \t reward: -304.58690295470944\n",
      "Episode 40 \t avg length: 999 \t reward: -209.7539090441291\n",
      "Episode 60 \t avg length: 999 \t reward: -252.18534013342355\n",
      "Episode 80 \t avg length: 999 \t reward: -220.48610639585385\n",
      "Episode 100 \t avg length: 999 \t reward: -179.9168908003975\n",
      "Episode 120 \t avg length: 999 \t reward: -179.61145018879657\n",
      "Episode 140 \t avg length: 999 \t reward: -156.70858350003766\n",
      "Episode 160 \t avg length: 999 \t reward: -174.18767536874108\n",
      "Episode 180 \t avg length: 999 \t reward: -158.20116805555364\n",
      "Episode 200 \t avg length: 999 \t reward: -148.14878513910105\n",
      "Episode 220 \t avg length: 999 \t reward: -141.68032491601747\n",
      "Episode 240 \t avg length: 999 \t reward: -153.2200537985342\n",
      "Episode 260 \t avg length: 999 \t reward: -157.34112221924548\n",
      "Episode 280 \t avg length: 999 \t reward: -154.44416134671752\n",
      "Episode 300 \t avg length: 999 \t reward: -107.81117830475253\n",
      "Episode 320 \t avg length: 999 \t reward: -133.25572771884953\n",
      "Episode 340 \t avg length: 999 \t reward: -116.20154849187904\n",
      "Episode 360 \t avg length: 999 \t reward: -98.23198459007214\n",
      "Episode 380 \t avg length: 999 \t reward: -91.62320096817501\n",
      "Episode 400 \t avg length: 999 \t reward: -92.4236490589163\n",
      "Episode 420 \t avg length: 999 \t reward: -67.81153901797664\n",
      "Episode 440 \t avg length: 999 \t reward: -61.69421220594389\n",
      "Episode 460 \t avg length: 999 \t reward: -89.72755197559016\n",
      "Episode 480 \t avg length: 999 \t reward: -18.79979944481088\n",
      "########### Save checkpoint ################\n",
      "Episode 500 \t avg length: 999 \t reward: -55.98202106516394\n",
      "Episode 520 \t avg length: 999 \t reward: -65.22118731073442\n",
      "Episode 540 \t avg length: 999 \t reward: -25.3413584667604\n",
      "Episode 560 \t avg length: 999 \t reward: -27.14339926675898\n",
      "Episode 580 \t avg length: 999 \t reward: 5.82077432335365\n",
      "Episode 600 \t avg length: 999 \t reward: -56.00835167323604\n",
      "Episode 620 \t avg length: 999 \t reward: -26.35324654462453\n",
      "Episode 640 \t avg length: 999 \t reward: 29.54165862067297\n",
      "Episode 660 \t avg length: 999 \t reward: 50.87633987404341\n",
      "Episode 680 \t avg length: 999 \t reward: 35.65068256385402\n",
      "Episode 700 \t avg length: 999 \t reward: 8.244091805901062\n",
      "Episode 720 \t avg length: 999 \t reward: 40.51410975629858\n",
      "Episode 740 \t avg length: 999 \t reward: 41.16192581942934\n",
      "Episode 760 \t avg length: 999 \t reward: 110.68235927792234\n",
      "Episode 780 \t avg length: 999 \t reward: 79.98586198977986\n",
      "Episode 800 \t avg length: 999 \t reward: 37.34074723508565\n",
      "Episode 820 \t avg length: 999 \t reward: 147.55277329925784\n",
      "Episode 840 \t avg length: 999 \t reward: 70.11692896104972\n",
      "Episode 860 \t avg length: 999 \t reward: 108.00243688178234\n",
      "Episode 880 \t avg length: 999 \t reward: 131.7455929225133\n",
      "Episode 900 \t avg length: 999 \t reward: 190.47245346549326\n",
      "Episode 920 \t avg length: 999 \t reward: 201.826172469798\n",
      "Episode 940 \t avg length: 999 \t reward: 231.74079323275504\n",
      "Episode 960 \t avg length: 999 \t reward: 230.42813233464136\n",
      "Episode 980 \t avg length: 999 \t reward: 279.90279367036794\n",
      "########### Save checkpoint ################\n",
      "Episode 1000 \t avg length: 999 \t reward: 155.6888461403541\n",
      "Episode 1020 \t avg length: 999 \t reward: 278.57216960322756\n",
      "Episode 1040 \t avg length: 999 \t reward: 341.7001518430282\n",
      "Episode 1060 \t avg length: 999 \t reward: 361.1692024026211\n",
      "Episode 1080 \t avg length: 999 \t reward: 451.7586409605533\n",
      "Episode 1100 \t avg length: 999 \t reward: 446.00893410590334\n",
      "Episode 1120 \t avg length: 999 \t reward: 515.2177483265839\n",
      "Episode 1140 \t avg length: 999 \t reward: 512.2616297445109\n",
      "Episode 1160 \t avg length: 999 \t reward: 452.10300539861726\n",
      "Episode 1180 \t avg length: 999 \t reward: 516.9785806731204\n",
      "Episode 1200 \t avg length: 999 \t reward: 543.9195397293182\n",
      "Episode 1220 \t avg length: 999 \t reward: 631.4366095438975\n",
      "Episode 1240 \t avg length: 999 \t reward: 666.0942607475782\n",
      "Episode 1260 \t avg length: 999 \t reward: 755.5442473133014\n",
      "Episode 1280 \t avg length: 999 \t reward: 616.5987290596704\n",
      "Episode 1300 \t avg length: 999 \t reward: 742.3082365940616\n",
      "Episode 1320 \t avg length: 999 \t reward: 777.9652754870474\n",
      "Episode 1340 \t avg length: 999 \t reward: 855.0522651753712\n",
      "Episode 1360 \t avg length: 999 \t reward: 843.8985189049487\n",
      "Episode 1380 \t avg length: 999 \t reward: 952.5376729919714\n",
      "Episode 1400 \t avg length: 999 \t reward: 921.9752004604527\n",
      "Episode 1420 \t avg length: 999 \t reward: 950.027211867818\n",
      "Episode 1440 \t avg length: 999 \t reward: 987.6795327785579\n",
      "Episode 1460 \t avg length: 999 \t reward: 1051.452424368601\n",
      "Episode 1480 \t avg length: 999 \t reward: 1047.8704359788394\n",
      "########### Save checkpoint ################\n",
      "Episode 1500 \t avg length: 999 \t reward: 1074.1972038740828\n",
      "Episode 1520 \t avg length: 999 \t reward: 1073.2518272650111\n",
      "Episode 1540 \t avg length: 999 \t reward: 1132.899504682965\n",
      "Episode 1560 \t avg length: 999 \t reward: 1179.726187375628\n",
      "Episode 1580 \t avg length: 999 \t reward: 1122.9203393920618\n",
      "Episode 1600 \t avg length: 999 \t reward: 1216.2810427385812\n",
      "Episode 1620 \t avg length: 999 \t reward: 1225.527720754129\n",
      "Episode 1640 \t avg length: 999 \t reward: 1245.6583383794489\n",
      "Episode 1660 \t avg length: 999 \t reward: 1277.032804800812\n",
      "Episode 1680 \t avg length: 999 \t reward: 1272.3233183616035\n",
      "Episode 1700 \t avg length: 999 \t reward: 1294.5877909932349\n",
      "Episode 1720 \t avg length: 999 \t reward: 1322.1801423246084\n",
      "Episode 1740 \t avg length: 999 \t reward: 1255.4430646195392\n",
      "Episode 1760 \t avg length: 999 \t reward: 1321.199485253924\n",
      "Episode 1780 \t avg length: 999 \t reward: 1369.1141855243457\n",
      "Episode 1800 \t avg length: 999 \t reward: 1404.6430812750107\n",
      "Episode 1820 \t avg length: 999 \t reward: 1316.396675959007\n",
      "Episode 1840 \t avg length: 999 \t reward: 1458.6735449893872\n",
      "Episode 1860 \t avg length: 999 \t reward: 1400.0731793924879\n",
      "Episode 1880 \t avg length: 999 \t reward: 1433.153501520355\n",
      "Episode 1900 \t avg length: 999 \t reward: 1406.9929668619855\n",
      "Episode 1920 \t avg length: 999 \t reward: 1422.7702831618524\n",
      "Episode 1940 \t avg length: 999 \t reward: 1473.2777416724891\n",
      "Episode 1960 \t avg length: 999 \t reward: 1522.8801770977975\n",
      "Episode 1980 \t avg length: 999 \t reward: 1539.12456235735\n",
      "########### Save checkpoint ################\n",
      "Episode 2000 \t avg length: 999 \t reward: 1513.5363846770433\n",
      "Episode 2020 \t avg length: 999 \t reward: 1569.4592628755574\n",
      "Episode 2040 \t avg length: 999 \t reward: 1582.9339657558162\n",
      "Episode 2060 \t avg length: 999 \t reward: 1539.3232593275964\n",
      "Episode 2080 \t avg length: 999 \t reward: 1631.8163789742189\n",
      "Episode 2100 \t avg length: 999 \t reward: 1614.6550086404675\n",
      "Episode 2120 \t avg length: 999 \t reward: 1639.5512782630053\n",
      "Episode 2140 \t avg length: 999 \t reward: 1647.3411542727692\n",
      "Episode 2160 \t avg length: 999 \t reward: 1677.3103412158744\n",
      "Episode 2180 \t avg length: 999 \t reward: 1703.5546987328557\n",
      "Episode 2200 \t avg length: 999 \t reward: 1696.5531954750745\n",
      "Episode 2220 \t avg length: 999 \t reward: 1685.7506070808315\n",
      "Episode 2240 \t avg length: 999 \t reward: 1724.1652640750167\n",
      "Episode 2260 \t avg length: 999 \t reward: 1742.938618030087\n",
      "Episode 2280 \t avg length: 999 \t reward: 1729.742449399695\n",
      "Episode 2300 \t avg length: 999 \t reward: 1757.004204493886\n",
      "Episode 2320 \t avg length: 999 \t reward: 1766.3221274503808\n",
      "Episode 2340 \t avg length: 999 \t reward: 1722.7716236808762\n",
      "Episode 2360 \t avg length: 999 \t reward: 1815.640461694808\n",
      "Episode 2380 \t avg length: 999 \t reward: 1810.4066844090544\n",
      "Episode 2400 \t avg length: 999 \t reward: 1809.5882877848192\n",
      "Episode 2420 \t avg length: 999 \t reward: 1829.6912916104952\n",
      "Episode 2440 \t avg length: 999 \t reward: 1848.0420285705695\n",
      "Episode 2460 \t avg length: 999 \t reward: 1844.7191769727456\n",
      "Episode 2480 \t avg length: 999 \t reward: 1845.4150920840352\n",
      "########### Save checkpoint ################\n",
      "Episode 2500 \t avg length: 999 \t reward: 1907.5531721191269\n",
      "Episode 2520 \t avg length: 999 \t reward: 1868.8644320705728\n",
      "Episode 2540 \t avg length: 999 \t reward: 1863.8707433419986\n",
      "Episode 2560 \t avg length: 999 \t reward: 1829.5795487387738\n",
      "Episode 2580 \t avg length: 999 \t reward: 1874.2361960733822\n",
      "Episode 2600 \t avg length: 999 \t reward: 1907.9332837906836\n",
      "Episode 2620 \t avg length: 999 \t reward: 1967.468819976902\n",
      "Episode 2640 \t avg length: 999 \t reward: 1960.6200272853246\n",
      "Episode 2660 \t avg length: 999 \t reward: 1979.4983101685611\n",
      "Episode 2680 \t avg length: 999 \t reward: 1889.5061893349575\n",
      "Episode 2700 \t avg length: 999 \t reward: 1989.833384992214\n",
      "Episode 2720 \t avg length: 999 \t reward: 1987.3777791937605\n",
      "Episode 2740 \t avg length: 999 \t reward: 1974.3899503971886\n",
      "Episode 2760 \t avg length: 999 \t reward: 1945.8661495540332\n",
      "Episode 2780 \t avg length: 999 \t reward: 1989.1794601473453\n",
      "Episode 2800 \t avg length: 999 \t reward: 1929.1935955365698\n",
      "Episode 2820 \t avg length: 999 \t reward: 1914.5520618373514\n",
      "Episode 2840 \t avg length: 999 \t reward: 2056.2767482391278\n",
      "Episode 2860 \t avg length: 999 \t reward: 2059.0469225842703\n",
      "Episode 2880 \t avg length: 999 \t reward: 2048.356782160407\n",
      "Episode 2900 \t avg length: 999 \t reward: 2038.8148228015239\n",
      "Episode 2920 \t avg length: 999 \t reward: 2055.579229157032\n",
      "Episode 2940 \t avg length: 999 \t reward: 2017.6524805193026\n",
      "Episode 2960 \t avg length: 999 \t reward: 2051.209358592824\n",
      "Episode 2980 \t avg length: 999 \t reward: 2094.2736866908917\n",
      "########### Save checkpoint ################\n",
      "Episode 3000 \t avg length: 999 \t reward: 2017.4344786484878\n"
     ]
    }
   ],
   "source": [
    "run_sac_agent_in_environment(env_name=env_name,log_interval=log_interval,save_interval=save_interval,max_episodes=max_episodes,max_timesteps=max_timesteps,train_iter=train_iter,random_seed=random_seed)"
   ]
  },
  {
   "cell_type": "code",
   "execution_count": null,
   "metadata": {},
   "outputs": [],
   "source": [
    "with open(f\"./results/SAC_{env_name}-s{random_seed}-e{int(max_episodes/save_interval)*save_interval}-stat.pkl\", 'rb') as f:\n",
    "    data = pickle.load(f)\n",
    "    rewards = np.asarray(data[\"rewards\"])\n",
    "    q_losses =  np.asarray(data[\"q_losses\"])\n",
    "    pi_losses  = np.asarray(data[\"pi_losses\"])\n",
    "    temperature_losses = np.asarray(data[\"temperature_loss\"])"
   ]
  },
  {
   "cell_type": "code",
   "execution_count": null,
   "metadata": {
    "ExecuteTime": {
     "end_time": "2023-06-19T21:24:23.335303Z",
     "start_time": "2023-06-19T21:24:23.157740Z"
    }
   },
   "outputs": [
    {
     "data": {
      "text/plain": [
       "[<matplotlib.lines.Line2D at 0x2bf93162680>]"
      ]
     },
     "execution_count": 23,
     "metadata": {},
     "output_type": "execute_result"
    },
    {
     "data": {
      "image/png": "[encoded data removed]",
      "text/plain": [
       "<Figure size 600x380 with 1 Axes>"
      ]
     },
     "metadata": {},
     "output_type": "display_data"
    }
   ],
   "source": [
    "fig=plt.figure(figsize=(6,3.8))\n",
    "plt.plot(running_mean(rewards,10))"
   ]
  },
  {
   "cell_type": "code",
   "execution_count": null,
   "metadata": {
    "ExecuteTime": {
     "end_time": "2023-06-19T21:24:41.464338Z",
     "start_time": "2023-06-19T21:24:41.267474Z"
    }
   },
   "outputs": [
    {
     "name": "stdout",
     "output_type": "stream",
     "text": [
      "Agent now in evaluation Mode\n"
     ]
    }
   ],
   "source": [
    "checkpoint = f\"./SAC_{env_name}-e{int(max_episodes/save_interval)*save_interval}-t{train_iter}-s{random_seed}.pth\"\n",
    "env = gym.make(env_name, render_mode=\"human\")\n",
    "agent = sac.SAC_Agent(env.observation_space, env.action_space)\n",
    "agent.eval()\n",
    "#TODO implement agent working in environment\n",
    "observation, info = env.reset(seed=42)\n",
    "for _ in range(1000):\n",
    "   action = agent.act(observation)\n",
    "   observation, reward, terminated, truncated, info = env.step(action)\n",
    "\n",
    "   if terminated or truncated:\n",
    "      observation, info = env.reset()"
   ]
  },
  {
   "cell_type": "code",
   "execution_count": null,
   "metadata": {},
   "outputs": [],
   "source": [
    "env.close()"
   ]
  },
  {
   "attachments": {},
   "cell_type": "markdown",
   "metadata": {},
   "source": [
    "## Lunar Lander"
   ]
  },
  {
   "cell_type": "code",
   "execution_count": null,
   "metadata": {
    "notebookRunGroups": {
     "groupValue": "1"
    }
   },
   "outputs": [],
   "source": [
    "#env_name = \"Pendulum-v1\"\n",
    "env_name = \"LunarLander-v2\"\n",
    "log_interval = 20         # print avg reward in the interval\n",
    "max_episodes = 3000 # max training episodes\n",
    "max_timesteps = 2000         # max timesteps in one episode\n",
    "save_interval = 500\n",
    "train_iter = 32      # update networks for given batched after every episode\n",
    "random_seed = 42"
   ]
  },
  {
   "cell_type": "code",
   "execution_count": null,
   "metadata": {
    "notebookRunGroups": {
     "groupValue": "1"
    }
   },
   "outputs": [
    {
     "name": "stdout",
     "output_type": "stream",
     "text": [
      "Episode 20 \t avg length: 103 \t reward: -199.20054407225672\n",
      "Episode 40 \t avg length: 121 \t reward: -242.2360819145713\n",
      "Episode 60 \t avg length: 97 \t reward: -236.80724120442977\n",
      "Episode 80 \t avg length: 102 \t reward: -248.72293966982738\n",
      "Episode 100 \t avg length: 96 \t reward: -300.85255615006383\n",
      "Episode 120 \t avg length: 487 \t reward: -60.08536165903977\n",
      "Episode 140 \t avg length: 998 \t reward: -37.272858777341874\n",
      "Episode 160 \t avg length: 999 \t reward: -29.67047538498513\n",
      "Episode 180 \t avg length: 999 \t reward: -53.795686905580204\n",
      "Episode 200 \t avg length: 999 \t reward: -60.64358436860023\n",
      "Episode 220 \t avg length: 999 \t reward: -72.35108625736768\n",
      "Episode 240 \t avg length: 999 \t reward: -63.138739285515975\n",
      "Episode 260 \t avg length: 990 \t reward: -59.67527445776879\n",
      "Episode 280 \t avg length: 914 \t reward: -84.09463550943016\n",
      "Episode 300 \t avg length: 932 \t reward: -220.47942269342266\n",
      "Episode 320 \t avg length: 955 \t reward: -21.269212179001833\n",
      "Episode 340 \t avg length: 999 \t reward: 11.369169795220149\n",
      "Episode 360 \t avg length: 999 \t reward: -4.3419092041086955\n",
      "Episode 380 \t avg length: 948 \t reward: 4.124725660866209\n",
      "Episode 400 \t avg length: 930 \t reward: 8.404537690151797\n",
      "Episode 420 \t avg length: 989 \t reward: -16.48377611819752\n",
      "Episode 440 \t avg length: 986 \t reward: -2.429112000128359\n",
      "Episode 460 \t avg length: 997 \t reward: -10.044294726303107\n",
      "Episode 480 \t avg length: 999 \t reward: -17.063218069166517\n",
      "########### Save checkpoint ################\n",
      "Episode 500 \t avg length: 999 \t reward: -23.1676896711161\n",
      "Episode 520 \t avg length: 999 \t reward: -19.656423059003295\n",
      "Episode 540 \t avg length: 999 \t reward: -12.857673778440994\n",
      "Episode 560 \t avg length: 979 \t reward: 14.543535297741878\n",
      "Episode 580 \t avg length: 999 \t reward: -23.627577628407096\n",
      "Episode 600 \t avg length: 977 \t reward: 7.736441777413951\n",
      "Episode 620 \t avg length: 999 \t reward: 15.605814431659905\n",
      "Episode 640 \t avg length: 976 \t reward: 62.7583443074049\n",
      "Episode 660 \t avg length: 996 \t reward: 50.87267678507846\n",
      "Episode 680 \t avg length: 963 \t reward: 72.06670193182832\n",
      "Episode 700 \t avg length: 816 \t reward: 82.19359746024648\n",
      "Episode 720 \t avg length: 957 \t reward: 81.34556238360696\n",
      "Episode 740 \t avg length: 814 \t reward: 98.18826969992622\n",
      "Episode 760 \t avg length: 912 \t reward: 99.27428417445302\n",
      "Episode 780 \t avg length: 935 \t reward: 132.42699328706118\n",
      "Episode 800 \t avg length: 991 \t reward: 114.93684656414541\n",
      "Episode 820 \t avg length: 902 \t reward: 123.58797271747676\n",
      "Episode 840 \t avg length: 964 \t reward: 113.10344504489103\n",
      "Episode 860 \t avg length: 729 \t reward: 141.62653779994042\n",
      "Episode 880 \t avg length: 769 \t reward: 125.64474666442143\n",
      "Episode 900 \t avg length: 858 \t reward: 140.43957145990663\n",
      "Episode 920 \t avg length: 903 \t reward: 152.99308124305247\n",
      "Episode 940 \t avg length: 954 \t reward: 131.26177818895917\n",
      "Episode 960 \t avg length: 965 \t reward: 127.26828591387948\n",
      "Episode 980 \t avg length: 805 \t reward: 114.05746431685763\n",
      "########### Save checkpoint ################\n",
      "Episode 1000 \t avg length: 861 \t reward: 154.49939661427172\n",
      "Episode 1020 \t avg length: 936 \t reward: 120.09428441992873\n",
      "Episode 1040 \t avg length: 939 \t reward: 95.46523124148635\n",
      "Episode 1060 \t avg length: 938 \t reward: 137.80198525549608\n",
      "Episode 1080 \t avg length: 912 \t reward: 84.22613083232203\n",
      "Episode 1100 \t avg length: 952 \t reward: 105.12362689275203\n",
      "Episode 1120 \t avg length: 890 \t reward: 132.67501134268278\n",
      "Episode 1140 \t avg length: 862 \t reward: 139.8393026068677\n",
      "Episode 1160 \t avg length: 925 \t reward: 114.2808090920308\n",
      "Episode 1180 \t avg length: 847 \t reward: 104.21086543934071\n",
      "Episode 1200 \t avg length: 874 \t reward: 132.79795111661377\n",
      "Episode 1220 \t avg length: 859 \t reward: 73.90703735647739\n",
      "Episode 1240 \t avg length: 889 \t reward: 125.43089490795687\n",
      "Episode 1260 \t avg length: 933 \t reward: 129.7291069331039\n",
      "Episode 1280 \t avg length: 978 \t reward: 84.89747612053137\n",
      "Episode 1300 \t avg length: 972 \t reward: 97.58455579346868\n",
      "Episode 1320 \t avg length: 966 \t reward: 110.7307631713522\n",
      "Episode 1340 \t avg length: 950 \t reward: 123.52081214143034\n",
      "Episode 1360 \t avg length: 943 \t reward: 141.72656791067394\n",
      "Episode 1380 \t avg length: 955 \t reward: 136.40469987412516\n",
      "Episode 1400 \t avg length: 979 \t reward: 141.20521782933147\n",
      "Episode 1420 \t avg length: 955 \t reward: 117.17657293616382\n",
      "Episode 1440 \t avg length: 825 \t reward: 120.50664569762903\n",
      "Episode 1460 \t avg length: 820 \t reward: 117.34882583805525\n",
      "Episode 1480 \t avg length: 848 \t reward: 120.29501960227515\n",
      "########### Save checkpoint ################\n",
      "Episode 1500 \t avg length: 900 \t reward: 117.2030079474296\n",
      "Episode 1520 \t avg length: 853 \t reward: 125.19198843985741\n",
      "Episode 1540 \t avg length: 902 \t reward: 140.1249909214149\n",
      "Episode 1560 \t avg length: 916 \t reward: 118.52161693754218\n",
      "Episode 1580 \t avg length: 910 \t reward: 118.19753559294773\n",
      "Episode 1600 \t avg length: 958 \t reward: 110.15717871634385\n",
      "Episode 1620 \t avg length: 814 \t reward: 154.58889789576264\n",
      "Episode 1640 \t avg length: 851 \t reward: 116.99760750862704\n",
      "Episode 1660 \t avg length: 871 \t reward: 148.0121068291633\n",
      "Episode 1680 \t avg length: 939 \t reward: 140.5052415252151\n",
      "Episode 1700 \t avg length: 999 \t reward: 136.35283482838776\n",
      "Episode 1720 \t avg length: 978 \t reward: 130.74212697563104\n",
      "Episode 1740 \t avg length: 906 \t reward: 148.7831425534883\n",
      "Episode 1760 \t avg length: 916 \t reward: 120.54044347723614\n",
      "Episode 1780 \t avg length: 897 \t reward: 138.59323772947454\n",
      "Episode 1800 \t avg length: 866 \t reward: 121.07701758580194\n",
      "Episode 1820 \t avg length: 826 \t reward: 118.60833011887038\n",
      "Episode 1840 \t avg length: 839 \t reward: 123.75195495392579\n",
      "Episode 1860 \t avg length: 999 \t reward: 127.84171528723361\n",
      "Episode 1880 \t avg length: 946 \t reward: 131.6241552799615\n",
      "Episode 1900 \t avg length: 906 \t reward: 107.17390997445996\n",
      "Episode 1920 \t avg length: 866 \t reward: 119.60891397635172\n",
      "Episode 1940 \t avg length: 939 \t reward: 135.67208541032934\n",
      "Episode 1960 \t avg length: 933 \t reward: 102.70689981323649\n",
      "Episode 1980 \t avg length: 846 \t reward: 147.74393351573352\n",
      "########### Save checkpoint ################\n",
      "Episode 2000 \t avg length: 953 \t reward: 143.5239899130069\n",
      "Episode 2020 \t avg length: 865 \t reward: 153.67953777900084\n",
      "Episode 2040 \t avg length: 893 \t reward: 139.3474646623747\n",
      "Episode 2060 \t avg length: 963 \t reward: 128.86988470883927\n",
      "Episode 2080 \t avg length: 919 \t reward: 140.41789908742678\n",
      "Episode 2100 \t avg length: 933 \t reward: 132.85011884314474\n",
      "Episode 2120 \t avg length: 863 \t reward: 155.88039450914093\n",
      "Episode 2140 \t avg length: 971 \t reward: 144.022750201498\n",
      "Episode 2160 \t avg length: 859 \t reward: 153.13032256036905\n",
      "Episode 2180 \t avg length: 760 \t reward: 135.31802469751074\n",
      "Episode 2200 \t avg length: 924 \t reward: 157.48180830427594\n",
      "Episode 2220 \t avg length: 875 \t reward: 145.4858419589518\n",
      "Episode 2240 \t avg length: 903 \t reward: 141.91459373138804\n",
      "Episode 2260 \t avg length: 932 \t reward: 142.17625190861784\n",
      "Episode 2280 \t avg length: 987 \t reward: 123.45456309619672\n",
      "Episode 2300 \t avg length: 999 \t reward: 122.84466530085766\n",
      "Episode 2320 \t avg length: 906 \t reward: 152.1076328573668\n",
      "Episode 2340 \t avg length: 901 \t reward: 136.75147614389851\n",
      "Episode 2360 \t avg length: 890 \t reward: 145.22936492367677\n",
      "Episode 2380 \t avg length: 923 \t reward: 125.30661463276529\n",
      "Episode 2400 \t avg length: 842 \t reward: 146.87344852154\n",
      "Episode 2420 \t avg length: 873 \t reward: 163.96061620518938\n",
      "Episode 2440 \t avg length: 848 \t reward: 149.00032872764035\n",
      "Episode 2460 \t avg length: 886 \t reward: 149.67178408818623\n",
      "Episode 2480 \t avg length: 877 \t reward: 156.00498292386322\n",
      "########### Save checkpoint ################\n",
      "Episode 2500 \t avg length: 946 \t reward: 126.50783815798908\n",
      "Episode 2520 \t avg length: 820 \t reward: 144.5000910500068\n",
      "Episode 2540 \t avg length: 875 \t reward: 112.87277500346272\n",
      "Episode 2560 \t avg length: 801 \t reward: 137.24176863858037\n",
      "Episode 2580 \t avg length: 840 \t reward: 163.79361539498674\n",
      "Episode 2600 \t avg length: 892 \t reward: 148.03065614587612\n",
      "Episode 2620 \t avg length: 803 \t reward: 146.89385147349628\n",
      "Episode 2640 \t avg length: 930 \t reward: 127.96896010755097\n",
      "Episode 2660 \t avg length: 893 \t reward: 149.223082662639\n",
      "Episode 2680 \t avg length: 686 \t reward: 190.4927373271879\n",
      "Episode 2700 \t avg length: 839 \t reward: 170.08873889983948\n",
      "Episode 2720 \t avg length: 848 \t reward: 154.4019033539384\n",
      "Episode 2740 \t avg length: 734 \t reward: 189.43891032976288\n",
      "Episode 2760 \t avg length: 766 \t reward: 174.6618240437287\n",
      "Episode 2780 \t avg length: 686 \t reward: 194.42284423768467\n",
      "Episode 2800 \t avg length: 754 \t reward: 164.65086594189603\n",
      "Episode 2820 \t avg length: 899 \t reward: 149.53666799864058\n",
      "Episode 2840 \t avg length: 670 \t reward: 174.1942300466299\n",
      "Episode 2860 \t avg length: 635 \t reward: 138.96169846805395\n",
      "Episode 2880 \t avg length: 617 \t reward: 120.93693524736527\n",
      "Episode 2900 \t avg length: 654 \t reward: 133.1994369758873\n",
      "Episode 2920 \t avg length: 564 \t reward: 112.39368984711882\n",
      "Episode 2940 \t avg length: 575 \t reward: 108.31312837110832\n",
      "Episode 2960 \t avg length: 629 \t reward: 106.60808282517023\n",
      "Episode 2980 \t avg length: 715 \t reward: 153.83285067408343\n",
      "########### Save checkpoint ################\n",
      "Episode 3000 \t avg length: 651 \t reward: 117.44875117839743\n"
     ]
    }
   ],
   "source": [
    "run_sac_agent_in_environment(env_name=env_name,log_interval=log_interval,save_interval=save_interval,max_episodes=max_episodes,max_timesteps=max_timesteps,train_iter=train_iter,random_seed=random_seed)"
   ]
  },
  {
   "cell_type": "code",
   "execution_count": null,
   "metadata": {},
   "outputs": [],
   "source": [
    "with open(f\"./results/SAC_{env_name}-s{random_seed}-e{int(max_episodes/save_interval)*save_interval}-stat.pkl\", 'rb') as f:\n",
    "    data = pickle.load(f)\n",
    "    rewards = np.asarray(data[\"rewards\"])\n",
    "    q_losses =  np.asarray(data[\"q_losses\"])\n",
    "    pi_losses  = np.asarray(data[\"pi_losses\"])\n",
    "    temperature_losses = np.asarray(data[\"temperature_loss\"])"
   ]
  },
  {
   "cell_type": "code",
   "execution_count": null,
   "metadata": {},
   "outputs": [
    {
     "data": {
      "text/plain": [
       "<matplotlib.legend.Legend at 0x2bffc7fd960>"
      ]
     },
     "execution_count": 29,
     "metadata": {},
     "output_type": "execute_result"
    },
    {
     "data": {
      "image/png": "[encoded data removed]",
      "text/plain": [
       "<Figure size 600x380 with 1 Axes>"
      ]
     },
     "metadata": {},
     "output_type": "display_data"
    }
   ],
   "source": [
    "fig=plt.figure(figsize=(6,3.8))\n",
    "plt.plot(running_mean(q_losses,10),label=f\"Q loss\")\n",
    "plt.plot(running_mean(pi_losses,10),label=f\"Pi loss\")\n",
    "plt.plot(running_mean(temperature_losses,10),label=f\"Temp loss\")\n",
    "plt.legend()"
   ]
  },
  {
   "cell_type": "code",
   "execution_count": null,
   "metadata": {},
   "outputs": [
    {
     "data": {
      "text/plain": [
       "<matplotlib.legend.Legend at 0x2bf8c2ae380>"
      ]
     },
     "execution_count": 30,
     "metadata": {},
     "output_type": "execute_result"
    },
    {
     "data": {
      "image/png": "[encoded data removed]",
      "text/plain": [
       "<Figure size 600x380 with 1 Axes>"
      ]
     },
     "metadata": {},
     "output_type": "display_data"
    }
   ],
   "source": [
    "fig=plt.figure(figsize=(6,3.8))\n",
    "plt.plot(running_mean(rewards,10),label=f\"rewards\")\n",
    "plt.legend()"
   ]
  },
  {
   "cell_type": "code",
   "execution_count": null,
   "metadata": {},
   "outputs": [
    {
     "name": "stdout",
     "output_type": "stream",
     "text": [
      "Agent now in evaluation Mode\n"
     ]
    }
   ],
   "source": [
    "checkpoint = f\"./results/SAC_{env_name}-e{int(max_episodes/save_interval)*save_interval}-t{train_iter}-s{random_seed}.pth\" \n",
    "env = gym.make(env_name, render_mode=\"human\",continuous=True)\n",
    "agent = sac.SAC_Agent(env.observation_space, env.action_space)\n",
    "agent.load_network_states(torch.load(checkpoint))\n",
    "agent.eval()\n",
    "#TODO implement agent working in environment\n",
    "observation, info = env.reset(seed=4)\n",
    "for _ in range(1200):\n",
    "   action = agent.act(observation)\n",
    "   observation, reward, terminated, truncated, info = env.step(action)\n",
    "\n",
    "   if terminated or truncated:\n",
    "      observation, info = env.reset()"
   ]
  },
  {
   "cell_type": "code",
   "execution_count": null,
   "metadata": {},
   "outputs": [],
   "source": [
    "env.close()"
   ]
  },
  {
   "attachments": {},
   "cell_type": "markdown",
   "metadata": {},
   "source": [
    "### Mountain Car Continuous"
   ]
  },
  {
   "cell_type": "code",
   "execution_count": null,
   "metadata": {},
   "outputs": [],
   "source": [
    "env_name = \"MountainCarContinuous-v0\"\n",
    "log_interval = 20         # print avg reward in the interval\n",
    "max_episodes = 1000 # max training episodes\n",
    "max_timesteps = 2000         # max timesteps in one episode\n",
    "save_interval = 1000\n",
    "train_iter = 32      # update networks for given batched after every episode\n",
    "random_seed = 42"
   ]
  },
  {
   "cell_type": "code",
   "execution_count": null,
   "metadata": {},
   "outputs": [
    {
     "name": "stdout",
     "output_type": "stream",
     "text": [
      "Episode 20 \t avg length: 998 \t reward: -33.13641670990937\n"
     ]
    },
    {
     "ename": "KeyboardInterrupt",
     "evalue": "",
     "output_type": "error",
     "traceback": [
      "\u001b[1;31m---------------------------------------------------------------------------\u001b[0m",
      "\u001b[1;31mKeyboardInterrupt\u001b[0m                         Traceback (most recent call last)",
      "Cell \u001b[1;32mIn[34], line 1\u001b[0m\n\u001b[1;32m----> 1\u001b[0m run_sac_agent_in_environment(env_name\u001b[39m=\u001b[39;49menv_name,log_interval\u001b[39m=\u001b[39;49mlog_interval,save_interval\u001b[39m=\u001b[39;49msave_interval,max_episodes\u001b[39m=\u001b[39;49mmax_episodes,max_timesteps\u001b[39m=\u001b[39;49mmax_timesteps,train_iter\u001b[39m=\u001b[39;49mtrain_iter,random_seed\u001b[39m=\u001b[39;49mrandom_seed)\n",
      "Cell \u001b[1;32mIn[4], line 32\u001b[0m, in \u001b[0;36mrun_sac_agent_in_environment\u001b[1;34m(env_name, log_interval, save_interval, max_episodes, max_timesteps, train_iter, random_seed)\u001b[0m\n\u001b[0;32m     29\u001b[0m     ob\u001b[39m=\u001b[39mob_new\n\u001b[0;32m     30\u001b[0m     \u001b[39mif\u001b[39;00m done \u001b[39mor\u001b[39;00m trunc: \u001b[39mbreak\u001b[39;00m\n\u001b[1;32m---> 32\u001b[0m q_loss,pi_loss,temperature_loss \u001b[39m=\u001b[39m agent\u001b[39m.\u001b[39;49mtrain(train_iter)\n\u001b[0;32m     34\u001b[0m q_losses\u001b[39m.\u001b[39mextend(q_loss)\n\u001b[0;32m     35\u001b[0m policy_losses\u001b[39m.\u001b[39mextend(pi_loss)\n",
      "File \u001b[1;32mc:\\Users\\Moritz Christ\\Documents\\Uni\\23Wintersemester\\RL\\Project\\RL\\RL_Agent\\SAC\\sac.py:195\u001b[0m, in \u001b[0;36mSAC_Agent.train\u001b[1;34m(self, iter_fit)\u001b[0m\n\u001b[0;32m    192\u001b[0m \u001b[39m######Start SAC train loop#######\u001b[39;00m\n\u001b[0;32m    193\u001b[0m \u001b[39m#updateQ\u001b[39;00m\n\u001b[0;32m    194\u001b[0m \u001b[39mif\u001b[39;00m i \u001b[39m%\u001b[39m \u001b[39mself\u001b[39m\u001b[39m.\u001b[39m_config[\u001b[39m\"\u001b[39m\u001b[39mfrequency_update_Q\u001b[39m\u001b[39m\"\u001b[39m] \u001b[39m==\u001b[39m \u001b[39m0\u001b[39m:\n\u001b[1;32m--> 195\u001b[0m     q_loss \u001b[39m=\u001b[39m \u001b[39mself\u001b[39;49m\u001b[39m.\u001b[39;49mupdate_Q_functions(s0,a,done,rew,s1)\n\u001b[0;32m    196\u001b[0m     q_losses\u001b[39m.\u001b[39mappend(q_loss)\n\u001b[0;32m    198\u001b[0m \u001b[39m#update policy\u001b[39;00m\n",
      "File \u001b[1;32mc:\\Users\\Moritz Christ\\Documents\\Uni\\23Wintersemester\\RL\\Project\\RL\\RL_Agent\\SAC\\sac.py:149\u001b[0m, in \u001b[0;36mSAC_Agent.update_Q_functions\u001b[1;34m(self, s0, action, done, rew, s1)\u001b[0m\n\u001b[0;32m    147\u001b[0m \u001b[39mwith\u001b[39;00m torch\u001b[39m.\u001b[39mno_grad():\n\u001b[0;32m    148\u001b[0m     a_next , log_prob_next \u001b[39m=\u001b[39m \u001b[39mself\u001b[39m\u001b[39m.\u001b[39mactor\u001b[39m.\u001b[39mget_action_and_log_probs(s1,reparameterize\u001b[39m=\u001b[39m\u001b[39mFalse\u001b[39;00m)\n\u001b[1;32m--> 149\u001b[0m     min_Q_next \u001b[39m=\u001b[39m \u001b[39mself\u001b[39;49m\u001b[39m.\u001b[39;49mget_target_Q_value(s1,a_next)\n\u001b[0;32m    150\u001b[0m     \u001b[39m#get V estimate\u001b[39;00m\n\u001b[0;32m    151\u001b[0m     target_value \u001b[39m=\u001b[39m min_Q_next \u001b[39m-\u001b[39m \u001b[39mself\u001b[39m\u001b[39m.\u001b[39mlog_temperature\u001b[39m.\u001b[39mexp() \u001b[39m*\u001b[39m log_prob_next\n",
      "File \u001b[1;32mc:\\Users\\Moritz Christ\\Documents\\Uni\\23Wintersemester\\RL\\Project\\RL\\RL_Agent\\SAC\\sac.py:142\u001b[0m, in \u001b[0;36mSAC_Agent.get_target_Q_value\u001b[1;34m(self, state, action)\u001b[0m\n\u001b[0;32m    140\u001b[0m \u001b[39mdef\u001b[39;00m \u001b[39mget_target_Q_value\u001b[39m(\u001b[39mself\u001b[39m,state,action):\n\u001b[0;32m    141\u001b[0m     \u001b[39m#same as get_Q_value but from target networks\u001b[39;00m\n\u001b[1;32m--> 142\u001b[0m     target_Q_val \u001b[39m=\u001b[39m \u001b[39mself\u001b[39;49m\u001b[39m.\u001b[39;49mtarget\u001b[39m.\u001b[39;49mget_min_Q_value(state,action)\n\u001b[0;32m    143\u001b[0m     \u001b[39mreturn\u001b[39;00m target_Q_val\n",
      "File \u001b[1;32mc:\\Users\\Moritz Christ\\Documents\\Uni\\23Wintersemester\\RL\\Project\\RL\\RL_Agent\\SAC\\Critic.py:87\u001b[0m, in \u001b[0;36mCritic_Q.get_min_Q_value\u001b[1;34m(self, state, action)\u001b[0m\n\u001b[0;32m     85\u001b[0m min_Q \u001b[39m=\u001b[39m \u001b[39mNone\u001b[39;00m\n\u001b[0;32m     86\u001b[0m \u001b[39mfor\u001b[39;00m network \u001b[39min\u001b[39;00m \u001b[39mself\u001b[39m\u001b[39m.\u001b[39mnetworks:\n\u001b[1;32m---> 87\u001b[0m     q_val \u001b[39m=\u001b[39m network\u001b[39m.\u001b[39;49mforward(torch\u001b[39m.\u001b[39;49mcat([state,action],dim\u001b[39m=\u001b[39;49m\u001b[39m1\u001b[39;49m))\n\u001b[0;32m     89\u001b[0m     \u001b[39mif\u001b[39;00m min_Q \u001b[39mis\u001b[39;00m \u001b[39mNone\u001b[39;00m:\n\u001b[0;32m     90\u001b[0m         min_Q \u001b[39m=\u001b[39m q_val\n",
      "File \u001b[1;32mc:\\Users\\Moritz Christ\\Documents\\Uni\\23Wintersemester\\RL\\Project\\RL\\RL_Agent\\SAC\\Basic\\feedforward.py:27\u001b[0m, in \u001b[0;36mFeedforward.forward\u001b[1;34m(self, x)\u001b[0m\n\u001b[0;32m     25\u001b[0m \u001b[39mdef\u001b[39;00m \u001b[39mforward\u001b[39m(\u001b[39mself\u001b[39m, x):\n\u001b[0;32m     26\u001b[0m     \u001b[39mfor\u001b[39;00m layer,activation_fun \u001b[39min\u001b[39;00m \u001b[39mzip\u001b[39m(\u001b[39mself\u001b[39m\u001b[39m.\u001b[39mlayers, \u001b[39mself\u001b[39m\u001b[39m.\u001b[39mactivations):\n\u001b[1;32m---> 27\u001b[0m         x \u001b[39m=\u001b[39m activation_fun(layer(x))\n\u001b[0;32m     28\u001b[0m     \u001b[39mif\u001b[39;00m \u001b[39mself\u001b[39m\u001b[39m.\u001b[39moutput_activation \u001b[39mis\u001b[39;00m \u001b[39mnot\u001b[39;00m \u001b[39mNone\u001b[39;00m:\n\u001b[0;32m     29\u001b[0m         \u001b[39mreturn\u001b[39;00m \u001b[39mself\u001b[39m\u001b[39m.\u001b[39moutput_activation(\u001b[39mself\u001b[39m\u001b[39m.\u001b[39mreadout(x))\n",
      "File \u001b[1;32md:\\Conda\\envs\\rl\\lib\\site-packages\\torch\\nn\\modules\\module.py:1501\u001b[0m, in \u001b[0;36mModule._call_impl\u001b[1;34m(self, *args, **kwargs)\u001b[0m\n\u001b[0;32m   1496\u001b[0m \u001b[39m# If we don't have any hooks, we want to skip the rest of the logic in\u001b[39;00m\n\u001b[0;32m   1497\u001b[0m \u001b[39m# this function, and just call forward.\u001b[39;00m\n\u001b[0;32m   1498\u001b[0m \u001b[39mif\u001b[39;00m \u001b[39mnot\u001b[39;00m (\u001b[39mself\u001b[39m\u001b[39m.\u001b[39m_backward_hooks \u001b[39mor\u001b[39;00m \u001b[39mself\u001b[39m\u001b[39m.\u001b[39m_backward_pre_hooks \u001b[39mor\u001b[39;00m \u001b[39mself\u001b[39m\u001b[39m.\u001b[39m_forward_hooks \u001b[39mor\u001b[39;00m \u001b[39mself\u001b[39m\u001b[39m.\u001b[39m_forward_pre_hooks\n\u001b[0;32m   1499\u001b[0m         \u001b[39mor\u001b[39;00m _global_backward_pre_hooks \u001b[39mor\u001b[39;00m _global_backward_hooks\n\u001b[0;32m   1500\u001b[0m         \u001b[39mor\u001b[39;00m _global_forward_hooks \u001b[39mor\u001b[39;00m _global_forward_pre_hooks):\n\u001b[1;32m-> 1501\u001b[0m     \u001b[39mreturn\u001b[39;00m forward_call(\u001b[39m*\u001b[39margs, \u001b[39m*\u001b[39m\u001b[39m*\u001b[39mkwargs)\n\u001b[0;32m   1502\u001b[0m \u001b[39m# Do not call functions when jit is used\u001b[39;00m\n\u001b[0;32m   1503\u001b[0m full_backward_hooks, non_full_backward_hooks \u001b[39m=\u001b[39m [], []\n",
      "File \u001b[1;32md:\\Conda\\envs\\rl\\lib\\site-packages\\torch\\nn\\modules\\linear.py:114\u001b[0m, in \u001b[0;36mLinear.forward\u001b[1;34m(self, input)\u001b[0m\n\u001b[0;32m    113\u001b[0m \u001b[39mdef\u001b[39;00m \u001b[39mforward\u001b[39m(\u001b[39mself\u001b[39m, \u001b[39minput\u001b[39m: Tensor) \u001b[39m-\u001b[39m\u001b[39m>\u001b[39m Tensor:\n\u001b[1;32m--> 114\u001b[0m     \u001b[39mreturn\u001b[39;00m F\u001b[39m.\u001b[39;49mlinear(\u001b[39minput\u001b[39;49m, \u001b[39mself\u001b[39;49m\u001b[39m.\u001b[39;49mweight, \u001b[39mself\u001b[39;49m\u001b[39m.\u001b[39;49mbias)\n",
      "\u001b[1;31mKeyboardInterrupt\u001b[0m: "
     ]
    }
   ],
   "source": [
    "run_sac_agent_in_environment(env_name=env_name,log_interval=log_interval,save_interval=save_interval,max_episodes=max_episodes,max_timesteps=max_timesteps,train_iter=train_iter,random_seed=random_seed)"
   ]
  },
  {
   "cell_type": "code",
   "execution_count": null,
   "metadata": {},
   "outputs": [],
   "source": [
    "with open(f\"./results/SAC_{env_name}-s{random_seed}-e{int(max_episodes/save_interval)*save_interval}-stat.pkl\", 'rb') as f:\n",
    "    data = pickle.load(f)\n",
    "    rewards = np.asarray(data[\"rewards\"])\n",
    "    q_losses =  np.asarray(data[\"q_losses\"])\n",
    "    pi_losses  = np.asarray(data[\"pi_losses\"])\n",
    "    temperature_losses = np.asarray(data[\"temperature_loss\"])"
   ]
  },
  {
   "cell_type": "code",
   "execution_count": null,
   "metadata": {},
   "outputs": [],
   "source": [
    "fig=plt.figure(figsize=(6,3.8))\n",
    "plt.plot(running_mean(q_losses,10),label=f\"Q loss\")\n",
    "plt.plot(running_mean(pi_losses,10),label=f\"Pi loss\")\n",
    "plt.plot(running_mean(temperature_losses,10),label=f\"Temp loss\")\n",
    "plt.legend()"
   ]
  },
  {
   "cell_type": "code",
   "execution_count": null,
   "metadata": {},
   "outputs": [],
   "source": [
    "fig=plt.figure(figsize=(6,3.8))\n",
    "plt.plot(running_mean(rewards,10),label=f\"rewards\")\n",
    "plt.legend()"
   ]
  },
  {
   "cell_type": "code",
   "execution_count": null,
   "metadata": {},
   "outputs": [],
   "source": [
    "checkpoint = f\"./results/SAC_{env_name}-e{int(max_episodes/save_interval)*save_interval}-t{train_iter}-s{random_seed}.pth\"\n",
    "env = gym.make(env_name, render_mode=\"human\")\n",
    "agent = sac.SAC_Agent(env.observation_space, env.action_space)\n",
    "agent.load_network_states(torch.load(checkpoint))\n",
    "agent.eval()\n",
    "#TODO implement agent working in environment\n",
    "observation, info = env.reset(seed=42)\n",
    "for _ in range(1000):\n",
    "   action = agent.act(observation)\n",
    "   observation, reward, terminated, truncated, info = env.step(action)\n",
    "\n",
    "   if terminated or truncated:\n",
    "      observation, info = env.reset()"
   ]
  },
  {
   "cell_type": "code",
   "execution_count": null,
   "metadata": {},
   "outputs": [],
   "source": [
    "env.close()"
   ]
  }
 ],
 "metadata": {
  "kernelspec": {
   "display_name": "rl",
   "language": "python",
   "name": "python3"
  },
  "language_info": {
   "codemirror_mode": {
    "name": "ipython",
    "version": 3
   },
   "file_extension": ".py",
   "mimetype": "text/x-python",
   "name": "python",
   "nbconvert_exporter": "python",
   "pygments_lexer": "ipython3",
   "version": "3.10.9"
  },
  "toc": {
   "base_numbering": 1,
   "nav_menu": {},
   "number_sections": true,
   "sideBar": true,
   "skip_h1_title": false,
   "title_cell": "Table of Contents",
   "title_sidebar": "Contents",
   "toc_cell": false,
   "toc_position": {},
   "toc_section_display": true,
   "toc_window_display": false
  }
 },
 "nbformat": 4,
 "nbformat_minor": 1
}
